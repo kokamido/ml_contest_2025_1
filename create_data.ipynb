{
 "cells": [
  {
   "cell_type": "code",
   "execution_count": 1,
   "metadata": {},
   "outputs": [],
   "source": [
    "import numpy as np\n",
    "import pandas as pd\n",
    "from sklearn.metrics import mean_squared_error\n",
    "from sklearn.model_selection import train_test_split"
   ]
  },
  {
   "cell_type": "code",
   "execution_count": 2,
   "metadata": {},
   "outputs": [],
   "source": [
    "np.random.seed(1234)"
   ]
  },
  {
   "cell_type": "code",
   "execution_count": 3,
   "metadata": {},
   "outputs": [
    {
     "name": "stdout",
     "output_type": "stream",
     "text": [
      "0 (array([0., 1.]), array([25045, 24955]))\n",
      "1 (array([0., 1., 2.]), array([16940, 16499, 16561]))\n"
     ]
    }
   ],
   "source": [
    "total_informative_features = 8\n",
    "total_shit_features = 4\n",
    "total_redundant_features = 4\n",
    "\n",
    "X = np.random.rand(total_informative_features, 50_000)\n",
    "for i, cardinality in enumerate([2, 3]):\n",
    "    X[i] = np.round(X[i] * cardinality * 10) % cardinality\n",
    "    print(i, np.unique(X[i], return_counts=True))\n",
    "\n",
    "for i in range(2, total_informative_features):\n",
    "    X[i] = X[i] * np.random.randint(1, 10)\n",
    "\n",
    "ys = []\n",
    "\n",
    "\n",
    "def fix_row(row, pairs):\n",
    "    row = row.copy()\n",
    "    for fst, snd in pairs:\n",
    "        fst += total_shit_features\n",
    "        snd += total_shit_features\n",
    "        row[fst], row[snd] = row[snd], row[fst]\n",
    "    return row\n",
    "\n",
    "\n",
    "def fix_dataset(X, pairs, truncate_informative=True):\n",
    "    res = np.apply_along_axis(lambda x: fix_row(x, pairs), 1, X)\n",
    "    if truncate_informative:\n",
    "        return res[\n",
    "            :, total_shit_features : total_shit_features + total_informative_features\n",
    "        ]\n",
    "    return res[:, :-total_shit_features]\n",
    "\n",
    "\n",
    "def true_f(row, pairs=None):\n",
    "    func_1 = None\n",
    "    if row[0]:\n",
    "        func_1 = lambda x: -x\n",
    "    else:\n",
    "        func_1 = lambda x: x\n",
    "\n",
    "    func_2 = None\n",
    "    if row[1] == 0:\n",
    "        func_2 = lambda x: -x * x\n",
    "    if row[1] == 1:\n",
    "        func_2 = lambda x: x\n",
    "    else:\n",
    "        func_2 = lambda x: 2 * x\n",
    "    return round(\n",
    "        func_1(func_2(row[2] + row[3]) + row[4] * row[5]) - row[6] * row[7] + 1,\n",
    "        4,\n",
    "    )\n",
    "\n",
    "\n",
    "for i in range(X.shape[1]):\n",
    "    ys.append(true_f(X[:, i]))"
   ]
  },
  {
   "cell_type": "code",
   "execution_count": 4,
   "metadata": {},
   "outputs": [
    {
     "data": {
      "text/plain": [
       "((8, 50000), (1, 50000))"
      ]
     },
     "execution_count": 4,
     "metadata": {},
     "output_type": "execute_result"
    }
   ],
   "source": [
    "X.shape, X[0].copy()[np.newaxis, :].shape"
   ]
  },
  {
   "cell_type": "code",
   "execution_count": 5,
   "metadata": {},
   "outputs": [],
   "source": [
    "def corrupt_data(X):\n",
    "    print(X.shape)\n",
    "    pairs = []\n",
    "    for i in range(total_redundant_features):\n",
    "        B = X[i].copy() \n",
    "        X = np.concatenate((X,B.reshape(1,-1)), axis=0)\n",
    "        pairs.append((i, X.shape[0] - 1))\n",
    "    return X, pairs\n",
    "    "
   ]
  },
  {
   "cell_type": "code",
   "execution_count": 6,
   "metadata": {},
   "outputs": [
    {
     "name": "stdout",
     "output_type": "stream",
     "text": [
      "(8, 50000)\n"
     ]
    },
    {
     "data": {
      "text/plain": [
       "(12, 50000)"
      ]
     },
     "execution_count": 6,
     "metadata": {},
     "output_type": "execute_result"
    }
   ],
   "source": [
    "X_corrupted, pairs = corrupt_data(X)\n",
    "X_corrupted.shape"
   ]
  },
  {
   "cell_type": "code",
   "execution_count": 7,
   "metadata": {},
   "outputs": [
    {
     "data": {
      "text/plain": [
       "[(0, 8), (1, 9), (2, 10), (3, 11)]"
      ]
     },
     "execution_count": 7,
     "metadata": {},
     "output_type": "execute_result"
    }
   ],
   "source": [
    "pairs"
   ]
  },
  {
   "cell_type": "code",
   "execution_count": 8,
   "metadata": {},
   "outputs": [
    {
     "data": {
      "text/plain": [
       "(50000, 15.2833, 15.2833)"
      ]
     },
     "execution_count": 8,
     "metadata": {},
     "output_type": "execute_result"
    }
   ],
   "source": [
    "len(ys), ys[0], true_f(X[:, 0])"
   ]
  },
  {
   "cell_type": "code",
   "execution_count": 9,
   "metadata": {},
   "outputs": [],
   "source": [
    "X_shit = np.random.rand(total_shit_features, 50_000)"
   ]
  },
  {
   "cell_type": "code",
   "execution_count": 10,
   "metadata": {},
   "outputs": [
    {
     "data": {
      "text/plain": [
       "(8, 50000)"
      ]
     },
     "execution_count": 10,
     "metadata": {},
     "output_type": "execute_result"
    }
   ],
   "source": [
    "X.shape"
   ]
  },
  {
   "cell_type": "code",
   "execution_count": 11,
   "metadata": {},
   "outputs": [
    {
     "data": {
      "text/plain": [
       "(16, 50000)"
      ]
     },
     "execution_count": 11,
     "metadata": {},
     "output_type": "execute_result"
    }
   ],
   "source": [
    "X_shitty = np.concatenate([X_shit, X_corrupted])\n",
    "X_shitty.shape"
   ]
  },
  {
   "cell_type": "code",
   "execution_count": 12,
   "metadata": {},
   "outputs": [],
   "source": [
    "X_train, X_test, y_train, y_test = train_test_split(X_shitty.T, ys,test_size=0.2)"
   ]
  },
  {
   "cell_type": "code",
   "execution_count": 13,
   "metadata": {},
   "outputs": [],
   "source": [
    "def corrupt_test(X_test, pairs):\n",
    "    for fst, snd in pairs:\n",
    "        fst += total_shit_features\n",
    "        snd += total_shit_features\n",
    "        X_test[:, fst] = X_test[:, fst] * (np.random.rand(X_test.shape[0]) < 0.2)\n",
    "    return X_test"
   ]
  },
  {
   "cell_type": "code",
   "execution_count": 14,
   "metadata": {},
   "outputs": [
    {
     "data": {
      "text/plain": [
       "(10000, 16)"
      ]
     },
     "execution_count": 14,
     "metadata": {},
     "output_type": "execute_result"
    }
   ],
   "source": [
    "X_test.shape"
   ]
  },
  {
   "cell_type": "code",
   "execution_count": 15,
   "metadata": {},
   "outputs": [],
   "source": [
    "X_test_corrupted = corrupt_test(X_test, pairs)"
   ]
  },
  {
   "cell_type": "code",
   "execution_count": 16,
   "metadata": {},
   "outputs": [
    {
     "data": {
      "text/plain": [
       "(317.44405840749005, 0.0, 459.6716602708623)"
      ]
     },
     "execution_count": 16,
     "metadata": {},
     "output_type": "execute_result"
    }
   ],
   "source": [
    "mean_squared_error(y_true=y_test, y_pred=np.apply_along_axis(true_f,1, X_test_corrupted)), \\\n",
    "mean_squared_error(y_true=y_test, y_pred=np.apply_along_axis(true_f,1, fix_dataset(X_test_corrupted, pairs))), \\\n",
    "mean_squared_error(y_true=y_train, y_pred=np.apply_along_axis(true_f,1, X_train))"
   ]
  },
  {
   "cell_type": "code",
   "execution_count": 17,
   "metadata": {},
   "outputs": [],
   "source": [
    "y_train = np.array(y_train)\n",
    "y_test = np.array(y_test)\n",
    "np.savetxt('X_train.csv', X_train, delimiter=',', )\n",
    "np.savetxt('y_train.csv', y_train, delimiter=',')\n",
    "np.savetxt('X_test.csv', X_test_corrupted, delimiter=',')\n"
   ]
  },
  {
   "cell_type": "code",
   "execution_count": 18,
   "metadata": {},
   "outputs": [],
   "source": [
    "test_df = pd.DataFrame(y_test, columns=['y'])"
   ]
  },
  {
   "cell_type": "code",
   "execution_count": 19,
   "metadata": {},
   "outputs": [],
   "source": [
    "test_df['Usage'] = ['Public'] * len(y_test)\n",
    "test_df['ID'] = list(range(len(y_test)))"
   ]
  },
  {
   "cell_type": "code",
   "execution_count": 20,
   "metadata": {},
   "outputs": [],
   "source": [
    "test_df[['ID', 'y', 'Usage']].to_csv('y_test.csv',sep=',', index=False)"
   ]
  },
  {
   "cell_type": "code",
   "execution_count": null,
   "metadata": {},
   "outputs": [],
   "source": []
  }
 ],
 "metadata": {
  "kernelspec": {
   "display_name": "venv",
   "language": "python",
   "name": "python3"
  },
  "language_info": {
   "codemirror_mode": {
    "name": "ipython",
    "version": 3
   },
   "file_extension": ".py",
   "mimetype": "text/x-python",
   "name": "python",
   "nbconvert_exporter": "python",
   "pygments_lexer": "ipython3",
   "version": "3.11.0rc1"
  }
 },
 "nbformat": 4,
 "nbformat_minor": 2
}
