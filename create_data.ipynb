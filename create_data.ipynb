{
 "cells": [
  {
   "cell_type": "code",
   "execution_count": 1,
   "metadata": {},
   "outputs": [],
   "source": [
    "import pandas as pd\n",
    "import numpy as np\n",
    "import seaborn as sns\n",
    "import pylab as plt\n",
    "from sklearn.preprocessing import PolynomialFeatures\n",
    "from sklearn.linear_model import LinearRegression\n",
    "from sklearn.pipeline import Pipeline\n",
    "\n",
    "from copy import deepcopy\n",
    "\n",
    "from sklearn.datasets import make_classification\n",
    "from sklearn.metrics import mean_squared_error\n",
    "from sklearn.model_selection import train_test_split, cross_val_score\n",
    "from catboost import CatBoostRegressor\n",
    "from xgboost import XGBRegressor\n",
    "from sklearn.linear_model import SGDRegressor\n",
    "from sklearn.ensemble import RandomForestRegressor, GradientBoostingRegressor\n",
    "from sklearn.linear_model import LinearRegression\n",
    "from lightgbm import LGBMRegressor\n",
    "\n",
    "\n",
    "from sklearn.naive_bayes import MultinomialNB"
   ]
  },
  {
   "cell_type": "code",
   "execution_count": 2,
   "metadata": {},
   "outputs": [
    {
     "name": "stdout",
     "output_type": "stream",
     "text": [
      "0 (array([0., 1.]), array([25022, 24978]))\n",
      "1 (array([0., 1., 2.]), array([16741, 16639, 16620]))\n"
     ]
    }
   ],
   "source": [
    "total_informative_features = 8\n",
    "total_shit_features = 4\n",
    "\n",
    "X = np.random.rand(total_informative_features, 50_000)\n",
    "for i, cardinality in enumerate([2, 3]):\n",
    "    X[i] = np.round(X[i] * cardinality * 10) % cardinality\n",
    "    print(i, np.unique(X[i], return_counts=True))\n",
    "\n",
    "for i in range(2, total_informative_features):\n",
    "    X[i] = X[i] * np.random.randint(1, 10)\n",
    "\n",
    "ys = []\n",
    "\n",
    "\n",
    "def fix_row(row, pairs):\n",
    "    row = row.copy()\n",
    "    for fst, snd in pairs:\n",
    "        row[fst], row[snd] = row[snd], row[fst]\n",
    "    return row\n",
    "\n",
    "def fix_dataset(X, pairs):\n",
    "    return np.apply_along_axis(lambda x: fix_row(x, pairs),1,X)[:, :total_informative_features]  \n",
    "\n",
    "def true_f(row, pairs=None):\n",
    "    func_1 = None\n",
    "    if row[0]:\n",
    "        func_1 = lambda x: -x\n",
    "    else:\n",
    "        func_1 = lambda x: x\n",
    "\n",
    "    func_2 = None\n",
    "    if row[1] == 0:\n",
    "        func_2 = lambda x: -x * x\n",
    "    if row[1] == 1:\n",
    "        func_2 = lambda x: x\n",
    "    else:\n",
    "        func_2 = lambda x: 2 * x\n",
    "    return round(\n",
    "        func_1(func_2(row[2] + row[3]) + row[4] * row[5]) - row[6] * row[7] + 1,\n",
    "        4,\n",
    "    )\n",
    "\n",
    "\n",
    "for i in range(X.shape[1]):\n",
    "    ys.append(true_f(X[:, i]))"
   ]
  },
  {
   "cell_type": "code",
   "execution_count": 3,
   "metadata": {},
   "outputs": [
    {
     "data": {
      "text/plain": [
       "((8, 50000), (1, 50000))"
      ]
     },
     "execution_count": 3,
     "metadata": {},
     "output_type": "execute_result"
    }
   ],
   "source": [
    "X.shape, X[0].copy()[np.newaxis, :].shape"
   ]
  },
  {
   "cell_type": "code",
   "execution_count": 4,
   "metadata": {},
   "outputs": [],
   "source": [
    "def corrupt_data(X):\n",
    "    print(X.shape)\n",
    "    pairs = []\n",
    "    for i in range(int(X.shape[0]/2)):\n",
    "        B = X[i].copy()\n",
    "        X = np.concatenate((X,B.reshape(1,-1)), axis=0)\n",
    "        pairs.append((i, X.shape[0] - 1))\n",
    "    return X, pairs\n",
    "    "
   ]
  },
  {
   "cell_type": "code",
   "execution_count": 5,
   "metadata": {},
   "outputs": [
    {
     "name": "stdout",
     "output_type": "stream",
     "text": [
      "(8, 50000)\n"
     ]
    },
    {
     "data": {
      "text/plain": [
       "(12, 50000)"
      ]
     },
     "execution_count": 5,
     "metadata": {},
     "output_type": "execute_result"
    }
   ],
   "source": [
    "X_corrupted, pairs = corrupt_data(X)\n",
    "X_corrupted.shape"
   ]
  },
  {
   "cell_type": "code",
   "execution_count": 6,
   "metadata": {},
   "outputs": [
    {
     "data": {
      "text/plain": [
       "[(0, 8), (1, 9), (2, 10), (3, 11)]"
      ]
     },
     "execution_count": 6,
     "metadata": {},
     "output_type": "execute_result"
    }
   ],
   "source": [
    "pairs"
   ]
  },
  {
   "cell_type": "code",
   "execution_count": 7,
   "metadata": {},
   "outputs": [
    {
     "data": {
      "text/plain": [
       "(50000, -2.8891, -2.8891)"
      ]
     },
     "execution_count": 7,
     "metadata": {},
     "output_type": "execute_result"
    }
   ],
   "source": [
    "len(ys), ys[0], true_f(X[:, 0])"
   ]
  },
  {
   "cell_type": "code",
   "execution_count": 8,
   "metadata": {},
   "outputs": [],
   "source": [
    "X_shit = np.random.rand(total_shit_features, 50_000)"
   ]
  },
  {
   "cell_type": "code",
   "execution_count": 9,
   "metadata": {},
   "outputs": [
    {
     "data": {
      "text/plain": [
       "(8, 50000)"
      ]
     },
     "execution_count": 9,
     "metadata": {},
     "output_type": "execute_result"
    }
   ],
   "source": [
    "X.shape"
   ]
  },
  {
   "cell_type": "code",
   "execution_count": 10,
   "metadata": {},
   "outputs": [
    {
     "data": {
      "text/plain": [
       "(16, 50000)"
      ]
     },
     "execution_count": 10,
     "metadata": {},
     "output_type": "execute_result"
    }
   ],
   "source": [
    "X_shitty = np.concatenate([X_corrupted, X_shit])\n",
    "X_shitty.shape"
   ]
  },
  {
   "cell_type": "code",
   "execution_count": 11,
   "metadata": {},
   "outputs": [],
   "source": [
    "X_train, X_test, y_train, y_test = train_test_split(X_shitty.T, ys,test_size=0.2)"
   ]
  },
  {
   "cell_type": "code",
   "execution_count": 12,
   "metadata": {},
   "outputs": [],
   "source": [
    "def corrupt_test(X_test, pairs):\n",
    "    for fst, snd in pairs:\n",
    "        X_test[:, fst] = X_test[:, fst] * (np.random.rand(X_test.shape[0]) < 0.2)\n",
    "    return X_test"
   ]
  },
  {
   "cell_type": "code",
   "execution_count": 13,
   "metadata": {},
   "outputs": [
    {
     "data": {
      "text/plain": [
       "(10000, 16)"
      ]
     },
     "execution_count": 13,
     "metadata": {},
     "output_type": "execute_result"
    }
   ],
   "source": [
    "X_test.shape"
   ]
  },
  {
   "cell_type": "code",
   "execution_count": 14,
   "metadata": {},
   "outputs": [],
   "source": [
    "X_test_corrupted = corrupt_test(X_test, pairs)"
   ]
  },
  {
   "cell_type": "code",
   "execution_count": 15,
   "metadata": {},
   "outputs": [
    {
     "data": {
      "text/plain": [
       "(506.102685728656, 0.0, 0.0)"
      ]
     },
     "execution_count": 15,
     "metadata": {},
     "output_type": "execute_result"
    }
   ],
   "source": [
    "mean_squared_error(y_true=y_test, y_pred=np.apply_along_axis(true_f,1, X_test_corrupted)), \\\n",
    "mean_squared_error(y_true=y_test, y_pred=np.apply_along_axis(true_f,1, fix_dataset(X_test_corrupted, pairs))), \\\n",
    "mean_squared_error(y_true=y_train, y_pred=np.apply_along_axis(true_f,1, X_train))"
   ]
  },
  {
   "cell_type": "code",
   "execution_count": 16,
   "metadata": {},
   "outputs": [
    {
     "data": {
      "text/plain": [
       "(10000, 16)"
      ]
     },
     "execution_count": 16,
     "metadata": {},
     "output_type": "execute_result"
    }
   ],
   "source": [
    "X_test_corrupted.shape"
   ]
  },
  {
   "cell_type": "code",
   "execution_count": 17,
   "metadata": {},
   "outputs": [],
   "source": [
    "def check(clf):\n",
    "    print('Raw train')\n",
    "    clf = deepcopy(clf)\n",
    "    print(cross_val_score(clf, X_train, y_train, scoring='neg_mean_squared_error', verbose=0))\n",
    "    clf = deepcopy(clf)\n",
    "\n",
    "    clf.fit(X_train, y_train)\n",
    "    print('corrupted_predict', mean_squared_error(y_true=y_test, y_pred=clf.predict(X_test_corrupted)))\n",
    "    print('fixed_predict',mean_squared_error(y_true=y_test, y_pred=clf.predict(np.apply_along_axis(lambda x: fix_row(x, pairs), 1, X_test_corrupted))))\n",
    "    clf = deepcopy(clf)\n",
    "    print('Fixed train')\n",
    "    print(cross_val_score(clf, fix_dataset(X_train, pairs), y_train, scoring='neg_mean_squared_error', verbose=0))\n",
    "    clf = deepcopy(clf)\n",
    "    clf.fit(fix_dataset(X_train, pairs), y_train)\n",
    "    print('corrupted_predict', mean_squared_error(y_true=y_test, y_pred=clf.predict(X_test_corrupted[:, :total_informative_features])))\n",
    "    print('fixed_predict', mean_squared_error(y_true=y_test, y_pred=clf.predict(fix_dataset(X_test_corrupted, pairs))))"
   ]
  },
  {
   "cell_type": "code",
   "execution_count": 18,
   "metadata": {},
   "outputs": [
    {
     "name": "stdout",
     "output_type": "stream",
     "text": [
      "Raw train\n"
     ]
    },
    {
     "name": "stderr",
     "output_type": "stream",
     "text": [
      "/home/pankratov1996/Desktop/work/ml_contest_2025_1/venv/lib/python3.11/site-packages/sklearn/utils/validation.py:2739: UserWarning: X does not have valid feature names, but LGBMRegressor was fitted with feature names\n",
      "  warnings.warn(\n",
      "/home/pankratov1996/Desktop/work/ml_contest_2025_1/venv/lib/python3.11/site-packages/sklearn/utils/validation.py:2739: UserWarning: X does not have valid feature names, but LGBMRegressor was fitted with feature names\n",
      "  warnings.warn(\n",
      "/home/pankratov1996/Desktop/work/ml_contest_2025_1/venv/lib/python3.11/site-packages/sklearn/utils/validation.py:2739: UserWarning: X does not have valid feature names, but LGBMRegressor was fitted with feature names\n",
      "  warnings.warn(\n",
      "/home/pankratov1996/Desktop/work/ml_contest_2025_1/venv/lib/python3.11/site-packages/sklearn/utils/validation.py:2739: UserWarning: X does not have valid feature names, but LGBMRegressor was fitted with feature names\n",
      "  warnings.warn(\n",
      "/home/pankratov1996/Desktop/work/ml_contest_2025_1/venv/lib/python3.11/site-packages/sklearn/utils/validation.py:2739: UserWarning: X does not have valid feature names, but LGBMRegressor was fitted with feature names\n",
      "  warnings.warn(\n"
     ]
    },
    {
     "name": "stdout",
     "output_type": "stream",
     "text": [
      "[-3.15614779 -2.76610419 -2.7574681  -2.92623825 -2.86823172]\n",
      "corrupted_predict 532.1387321414912\n",
      "fixed_predict 2.745310823790937\n",
      "Fixed train\n"
     ]
    },
    {
     "name": "stderr",
     "output_type": "stream",
     "text": [
      "/home/pankratov1996/Desktop/work/ml_contest_2025_1/venv/lib/python3.11/site-packages/sklearn/utils/validation.py:2739: UserWarning: X does not have valid feature names, but LGBMRegressor was fitted with feature names\n",
      "  warnings.warn(\n",
      "/home/pankratov1996/Desktop/work/ml_contest_2025_1/venv/lib/python3.11/site-packages/sklearn/utils/validation.py:2739: UserWarning: X does not have valid feature names, but LGBMRegressor was fitted with feature names\n",
      "  warnings.warn(\n",
      "/home/pankratov1996/Desktop/work/ml_contest_2025_1/venv/lib/python3.11/site-packages/sklearn/utils/validation.py:2739: UserWarning: X does not have valid feature names, but LGBMRegressor was fitted with feature names\n",
      "  warnings.warn(\n",
      "/home/pankratov1996/Desktop/work/ml_contest_2025_1/venv/lib/python3.11/site-packages/sklearn/utils/validation.py:2739: UserWarning: X does not have valid feature names, but LGBMRegressor was fitted with feature names\n",
      "  warnings.warn(\n",
      "/home/pankratov1996/Desktop/work/ml_contest_2025_1/venv/lib/python3.11/site-packages/sklearn/utils/validation.py:2739: UserWarning: X does not have valid feature names, but LGBMRegressor was fitted with feature names\n",
      "  warnings.warn(\n",
      "/home/pankratov1996/Desktop/work/ml_contest_2025_1/venv/lib/python3.11/site-packages/sklearn/utils/validation.py:2739: UserWarning: X does not have valid feature names, but LGBMRegressor was fitted with feature names\n",
      "  warnings.warn(\n"
     ]
    },
    {
     "name": "stdout",
     "output_type": "stream",
     "text": [
      "[-3.14941715 -2.88989516 -2.56851788 -2.83050671 -2.78373213]\n",
      "corrupted_predict 531.4989000137062\n",
      "fixed_predict 2.7659053970501204\n"
     ]
    },
    {
     "name": "stderr",
     "output_type": "stream",
     "text": [
      "/home/pankratov1996/Desktop/work/ml_contest_2025_1/venv/lib/python3.11/site-packages/sklearn/utils/validation.py:2739: UserWarning: X does not have valid feature names, but LGBMRegressor was fitted with feature names\n",
      "  warnings.warn(\n",
      "/home/pankratov1996/Desktop/work/ml_contest_2025_1/venv/lib/python3.11/site-packages/sklearn/utils/validation.py:2739: UserWarning: X does not have valid feature names, but LGBMRegressor was fitted with feature names\n",
      "  warnings.warn(\n",
      "/home/pankratov1996/Desktop/work/ml_contest_2025_1/venv/lib/python3.11/site-packages/sklearn/utils/validation.py:2739: UserWarning: X does not have valid feature names, but LGBMRegressor was fitted with feature names\n",
      "  warnings.warn(\n"
     ]
    }
   ],
   "source": [
    "check(LGBMRegressor(verbose=-1))"
   ]
  },
  {
   "cell_type": "code",
   "execution_count": 19,
   "metadata": {},
   "outputs": [
    {
     "name": "stdout",
     "output_type": "stream",
     "text": [
      "Raw train\n"
     ]
    },
    {
     "name": "stdout",
     "output_type": "stream",
     "text": [
      "[-16.64091347 -16.68929518 -16.22210729 -16.14555363 -16.46461729]\n",
      "corrupted_predict 144.44933702390293\n",
      "fixed_predict 144.44933702392342\n",
      "Fixed train\n",
      "[-16.6096962  -16.65230545 -16.20077323 -16.10743395 -16.43486916]\n",
      "corrupted_predict 495.52527428520136\n",
      "fixed_predict 16.502124256488653\n"
     ]
    }
   ],
   "source": [
    "model = Pipeline([('poly', PolynomialFeatures(degree=2)),\n",
    "                  ('linear', LinearRegression(fit_intercept=True))])\n",
    "check(model)"
   ]
  },
  {
   "cell_type": "code",
   "execution_count": 20,
   "metadata": {},
   "outputs": [
    {
     "name": "stdout",
     "output_type": "stream",
     "text": [
      "Raw train\n",
      "[-0.58772747 -0.62380102 -0.61809729 -0.59320787 -0.59549075]\n",
      "corrupted_predict 170.66533252335353\n",
      "fixed_predict 170.6653325233283\n",
      "Fixed train\n",
      "[-0.57911346 -0.61974223 -0.60978741 -0.58851287 -0.58768021]\n",
      "corrupted_predict 518.3259530474745\n",
      "fixed_predict 0.5786342378893891\n"
     ]
    }
   ],
   "source": [
    "model = Pipeline([('poly', PolynomialFeatures(degree=3)),\n",
    "                  ('linear', LinearRegression(fit_intercept=True))])\n",
    "check(model)"
   ]
  },
  {
   "cell_type": "code",
   "execution_count": 21,
   "metadata": {},
   "outputs": [
    {
     "name": "stdout",
     "output_type": "stream",
     "text": [
      "Raw train\n",
      "[-0.17447802 -0.17096464 -0.16747632 -0.17557667 -0.15942342]\n",
      "corrupted_predict 110.37205947618966\n",
      "fixed_predict 207.87308734175443\n",
      "Fixed train\n",
      "[-0.17522916 -0.16399147 -0.16403149 -0.17612748 -0.15841962]\n",
      "corrupted_predict 509.4248858008999\n",
      "fixed_predict 0.15144503039054819\n"
     ]
    }
   ],
   "source": [
    "check(CatBoostRegressor(verbose=0, loss_function='RMSE'))"
   ]
  },
  {
   "cell_type": "code",
   "execution_count": 22,
   "metadata": {},
   "outputs": [
    {
     "name": "stdout",
     "output_type": "stream",
     "text": [
      "Raw train\n",
      "[-3.43910694 -3.33046246 -3.62258244 -3.49300528 -3.34255457]\n",
      "corrupted_predict 513.36279296875\n",
      "fixed_predict 3.1210131645202637\n",
      "Fixed train\n",
      "[-3.09185433 -3.18784666 -3.36766696 -3.28011131 -3.1129179 ]\n",
      "corrupted_predict 509.1087646484375\n",
      "fixed_predict 2.9694905281066895\n"
     ]
    }
   ],
   "source": [
    "check(XGBRegressor(objective='reg:squarederror'))"
   ]
  },
  {
   "cell_type": "code",
   "execution_count": 23,
   "metadata": {},
   "outputs": [
    {
     "name": "stdout",
     "output_type": "stream",
     "text": [
      "Raw train\n",
      "[-8.91158233e-10 -8.84499995e-10 -8.82496319e-10 -8.80306285e-10\n",
      " -8.63273137e-10]\n",
      "corrupted_predict 227.10797304420765\n",
      "fixed_predict 227.10797306724527\n",
      "Fixed train\n",
      "[-8.54762805e-10 -8.41917119e-10 -8.46226517e-10 -8.42913608e-10\n",
      " -8.25878779e-10]\n",
      "corrupted_predict 506.1027047738405\n",
      "fixed_predict 8.454681163384856e-10\n"
     ]
    }
   ],
   "source": [
    "model = Pipeline([('poly', PolynomialFeatures(degree=4)),\n",
    "                  ('linear', LinearRegression(fit_intercept=True))])\n",
    "check(model)"
   ]
  },
  {
   "cell_type": "code",
   "execution_count": 24,
   "metadata": {},
   "outputs": [],
   "source": [
    "model = Pipeline([('poly', PolynomialFeatures(degree=4)),\n",
    "                  ('linear', LinearRegression(fit_intercept=True))])"
   ]
  },
  {
   "cell_type": "code",
   "execution_count": 25,
   "metadata": {},
   "outputs": [
    {
     "data": {
      "text/plain": [
       "(40000, 16)"
      ]
     },
     "execution_count": 25,
     "metadata": {},
     "output_type": "execute_result"
    }
   ],
   "source": [
    "X_train.shape"
   ]
  },
  {
   "cell_type": "code",
   "execution_count": 26,
   "metadata": {},
   "outputs": [
    {
     "data": {
      "text/plain": [
       "<Axes: >"
      ]
     },
     "execution_count": 26,
     "metadata": {},
     "output_type": "execute_result"
    },
    {
     "data": {
      "image/png": "[encoded data removed]",
      "text/plain": [
       "<Figure size 640x480 with 2 Axes>"
      ]
     },
     "metadata": {},
     "output_type": "display_data"
    }
   ],
   "source": [
    "sns.heatmap(pd.DataFrame(X_train).corr())"
   ]
  },
  {
   "cell_type": "code",
   "execution_count": 27,
   "metadata": {},
   "outputs": [
    {
     "data": {
      "text/plain": [
       "<Axes: >"
      ]
     },
     "execution_count": 27,
     "metadata": {},
     "output_type": "execute_result"
    },
    {
     "data": {
      "image/png": "[encoded data removed]",
      "text/plain": [
       "<Figure size 640x480 with 2 Axes>"
      ]
     },
     "metadata": {},
     "output_type": "display_data"
    }
   ],
   "source": [
    "sns.heatmap(pd.DataFrame(X_test).corr())"
   ]
  },
  {
   "cell_type": "code",
   "execution_count": 28,
   "metadata": {},
   "outputs": [
    {
     "data": {
      "text/plain": [
       "3943"
      ]
     },
     "execution_count": 28,
     "metadata": {},
     "output_type": "execute_result"
    }
   ],
   "source": [
    "((X_test[:, 0] - X_test[:, 8]) != 0).sum()"
   ]
  },
  {
   "cell_type": "code",
   "execution_count": 29,
   "metadata": {},
   "outputs": [
    {
     "data": {
      "text/plain": [
       "array([1., 2., 1., ..., 0., 0., 1.])"
      ]
     },
     "execution_count": 29,
     "metadata": {},
     "output_type": "execute_result"
    }
   ],
   "source": [
    "X_train[:, 1]"
   ]
  },
  {
   "cell_type": "code",
   "execution_count": null,
   "metadata": {},
   "outputs": [],
   "source": []
  }
 ],
 "metadata": {
  "kernelspec": {
   "display_name": "venv",
   "language": "python",
   "name": "python3"
  },
  "language_info": {
   "codemirror_mode": {
    "name": "ipython",
    "version": 3
   },
   "file_extension": ".py",
   "mimetype": "text/x-python",
   "name": "python",
   "nbconvert_exporter": "python",
   "pygments_lexer": "ipython3",
   "version": "3.11.0rc1"
  }
 },
 "nbformat": 4,
 "nbformat_minor": 2
}
